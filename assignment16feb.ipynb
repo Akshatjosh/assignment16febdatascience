{
 "cells": [
  {
   "cell_type": "code",
   "execution_count": null,
   "id": "1d2d3aa7-fb38-4636-866b-a997efb363ff",
   "metadata": {},
   "outputs": [],
   "source": [
    "Ques- What is an API? Give an example, where an API is used in real life.\n",
    "Ans- Application Programming Interface (API) is a software interface that allows two applications to interact with each other without any user intervention. API is a collection of software functions and procedures. In simple terms, API means a software code that can be accessed or executed. API is defined as a code that helps two different software’s to communicate and exchange data with each other.\n",
    "EXAMPLE:-\n",
    "Imagine that you went to a restaurant to take lunch or dinner. The waiter comes to you gives you a menu card, and you will provide personalize it order like you want a veg sandwich but without onion.\n",
    "\n",
    "After some time, you will get your order from the waiter. However, it is not that simple as it looks as there is some process that happens in between.\n",
    "\n",
    "Here, the waiter plays an important part as you will neither go to the kitchen to collect your order nor will you tell the kitchen staff what you want all this done by the waiter.\n",
    "\n",
    "API also does the same by taking your request, and just like the waiter tell the system what you want and give a response back to you."
   ]
  },
  {
   "cell_type": "markdown",
   "id": "836e7c3f-79d1-4422-b0a7-5f3c260a5737",
   "metadata": {},
   "source": [
    "Ques-  Give advantages and disadvantages of using API. \n",
    "Ans- Advantages of using API are :-\n",
    "Internet-based connectivity\n",
    "Communication is two-way with confirmations included within the transaction sets\n",
    "Since communication is two-way APIs offer reliable transaction sets\n",
    "The end product offers user-friendly experiences improving internal and external user satisfaction\n",
    "Provides evolving functionality as developers find new uses for API exchanges\n",
    "Disadvantages of using API are :-\n",
    "Implementing and providing API capabilities can be costly in terms of development times, ongoing maintenance requirements, and providing support.\n",
    "Scaling API requires extensive programming knowledge and the learning curve can fairly steep when understanding how to extend the capabilities of your API framework.\n",
    "Security can be a concern as APIs add another potential attack layer to programs/websites."
   ]
  },
  {
   "cell_type": "markdown",
   "id": "7b557080-b188-49c5-b55a-124857fcbb70",
   "metadata": {},
   "source": [
    "Ques-  What is a Web API? Differentiate between API and Web API.\n",
    "Ans- A Web API is an application programming interface which is use either for web server or a web browser.\n",
    "\n",
    "Two types of Web APIs are 1) Server-side API 2) Client-side API\n",
    "\n",
    "1.Server-side:\n",
    "Server-side web API is a programmatic interface that consist of one or more publicly exposed endpoints to a defined request–response message system. It is typically expressed in JSON or XML\n",
    "\n",
    "2.Client-side:\n",
    "A client-side web API is a programmatic interface helps to extend functionality within a web browser or other HTTP client.\n",
    "Difference between API and Web API\n",
    "Web service is a collection of open source protocols and standards used for exchanging data between systems or applications, whereas API is a software interface that allows two applications to interact with each other without any user involvement.\n",
    "Web service is used for REST, SOAP, and XML-RPC for communication, while API is used for any style of communication.\n",
    "Web service supports only HTTP protocol, whereas API supports HTTP/HTTPS protocol.\n",
    "Web service supports XML, while API supports XML and JSON.\n",
    "All Web services are APIs, but all APIs are not web services."
   ]
  },
  {
   "cell_type": "code",
   "execution_count": null,
   "id": "94968bbe-94b6-45ea-bfb6-303dbb5342b1",
   "metadata": {},
   "outputs": [],
   "source": [
    "Ques-  Explain REST and SOAP Architecture. Mention shortcomings of SOAP.\n",
    "Ans- REST stands for Representational State Transfer.REST was designed specifically for working with components such as media components, files, or even objects on a particular hardware device. Any web service that is defined on the principles of REST can be called a RestFul web service. A Restful service would use the normal HTTP verbs of GET, POST, PUT and DELETE for working with the required components.\n",
    "SOAP stands for Simple Object Access Protocol.SOAP is a protocol which was designed before REST and came into the picture. The main idea behind designing SOAP was to ensure that programs built on different platforms and programming languages could exchange data in an easy manner.\n",
    "Shortcoming of SOAP :-\n",
    "Complexity: SOAP is a complex protocol that requires a lot of coding and configuration to use. Its message structure is based on XML, which can be difficult to work with, especially for developers who are not familiar with it.\n",
    "\n",
    "Performance: SOAP is a heavyweight protocol, which means it can be slower and more resource-intensive than other lightweight protocols like REST. This can lead to performance issues, particularly when large amounts of data are being transferred.\n",
    "\n",
    "Scalability: Due to its complexity and heavyweight nature, SOAP may not be as scalable as other web service protocols, particularly when dealing with large volumes of data.\n",
    "\n",
    "Lack of browser support: Most modern browsers do not support SOAP natively, which means that web developers may need to use third-party libraries or plugins to implement SOAP-based web services."
   ]
  },
  {
   "cell_type": "code",
   "execution_count": null,
   "id": "87f4ff7d-9f6a-4620-a7ff-eec11814238c",
   "metadata": {},
   "outputs": [],
   "source": [
    "Ques-  Differentiate between REST and SOAP\n",
    "Ans-  SOAP                                                     REST\n",
    "    SOAP is a protocol. \t                                 REST is an architectural style.\n",
    "    SOAP stands for Simple Object Access Protocol.\t         REST stands for Representational State Transfer.\n",
    "    SOAP can't use REST because it is a protocol.\t         REST can use SOAP web services because it is a concept and can use any protocol like HTTP, SOAP.\n",
    "    SOAP defines standards to be strictly followed.\t         REST does not define too much standards like SOAP\n",
    "    SOAP requires more bandwidth and resource than REST.\t REST requires less bandwidth and resource than SOAP.\n",
    "    SOAP permits XML data format only.\t                     REST permits different data format such as Plain text, HTML, XML, JSON etc.\n",
    "    SOAP is less preferred than REST.\t                     REST more preferred than SOAP."
   ]
  }
 ],
 "metadata": {
  "kernelspec": {
   "display_name": "Python 3 (ipykernel)",
   "language": "python",
   "name": "python3"
  },
  "language_info": {
   "codemirror_mode": {
    "name": "ipython",
    "version": 3
   },
   "file_extension": ".py",
   "mimetype": "text/x-python",
   "name": "python",
   "nbconvert_exporter": "python",
   "pygments_lexer": "ipython3",
   "version": "3.10.6"
  }
 },
 "nbformat": 4,
 "nbformat_minor": 5
}
